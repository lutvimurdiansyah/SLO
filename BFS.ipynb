{
  "nbformat": 4,
  "nbformat_minor": 0,
  "metadata": {
    "colab": {
      "name": "BFS.ipynb",
      "provenance": [],
      "authorship_tag": "ABX9TyPVM+MPZxpFIG2qwyhxC9nf",
      "include_colab_link": true
    },
    "kernelspec": {
      "name": "python3",
      "display_name": "Python 3"
    },
    "language_info": {
      "name": "python"
    }
  },
  "cells": [
    {
      "cell_type": "markdown",
      "metadata": {
        "id": "view-in-github",
        "colab_type": "text"
      },
      "source": [
        "<a href=\"https://colab.research.google.com/github/lutvimurdiansyah/SLO/blob/main/BFS.ipynb\" target=\"_parent\"><img src=\"https://colab.research.google.com/assets/colab-badge.svg\" alt=\"Open In Colab\"/></a>"
      ]
    },
    {
      "cell_type": "code",
      "metadata": {
        "colab": {
          "base_uri": "https://localhost:8080/"
        },
        "id": "oNjbRXefmWkI",
        "outputId": "9e24e79f-3c9a-420a-d9db-b4cdbda9abd7"
      },
      "source": [
        "# Using a Python dictionary to act as an adjacency list\n",
        "graph = {\n",
        "    'A' : ['B','C'],\n",
        "    'B' : ['C', 'E'],\n",
        "    'C' : ['B', 'E'],\n",
        "    'D' : ['E', 'F'],\n",
        "    'E' : ['D', 'F'],\n",
        "    'F' : []\n",
        "}\n",
        "\n",
        "visited = [] # list to keep track of visited nodes.\n",
        "queue = [] #initialize a queue\n",
        "\n",
        "def bfs(visited, graph, node):\n",
        "  visited.append(node)\n",
        "  queue.append(node)\n",
        "\n",
        "  while queue:\n",
        "    s = queue.pop(0)\n",
        "    print (s, end=' ')\n",
        "\n",
        "    for neighbour in graph[s]:\n",
        "      if neighbour not in visited:\n",
        "        visited.append(neighbour)\n",
        "        queue.append(neighbour)\n",
        "\n",
        "# Driver Code\n",
        "bfs(visited, graph, 'A')"
      ],
      "execution_count": 18,
      "outputs": [
        {
          "output_type": "stream",
          "name": "stdout",
          "text": [
            "A B C E D F "
          ]
        }
      ]
    }
  ]
}